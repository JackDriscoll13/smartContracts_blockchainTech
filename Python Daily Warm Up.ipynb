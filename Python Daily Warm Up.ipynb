{
 "cells": [
  {
   "cell_type": "markdown",
   "metadata": {},
   "source": [
    "### Python Daily Warm Up Challenges\n",
    "\n",
    "[edabit challenges](https://edabit.com/challenges)"
   ]
  },
  {
   "cell_type": "code",
   "execution_count": 15,
   "metadata": {},
   "outputs": [],
   "source": [
    "# 8/10 \n",
    "import socket \n",
    "type(socket.gethostbyaddr('8.8.8.8')[0])\n",
    "\n",
    "import socket\n",
    "def get_domain(ip_address):\n",
    "    return str(socket.gethostbyaddr(ip_address)[0])"
   ]
  },
  {
   "cell_type": "code",
   "execution_count": 8,
   "metadata": {},
   "outputs": [
    {
     "name": "stdout",
     "output_type": "stream",
     "text": [
      "1\n",
      "2\n",
      "4\n",
      "8\n",
      "16\n",
      "32\n",
      "64\n",
      "128\n",
      "256\n",
      "512\n"
     ]
    },
    {
     "data": {
      "text/plain": [
       "9"
      ]
     },
     "execution_count": 8,
     "metadata": {},
     "output_type": "execute_result"
    }
   ],
   "source": [
    "#8/6\n",
    "# n = SIZE OF Square \n",
    "# l = length of snake starting at 1 \n",
    "# Every eat snake length doubles \n",
    "# area of swquare can't be greater than snake length \n",
    "\n",
    "def snakefill(side):\n",
    "    sl = 1 \n",
    "    count = 0 \n",
    "    while (sl) <= (side**2):\n",
    "        print(sl)\n",
    "        sl = sl*2\n",
    "        count += 1 \n",
    "    return count -1\n",
    "\n",
    "snakefill(24)"
   ]
  },
  {
   "cell_type": "code",
   "execution_count": 8,
   "metadata": {},
   "outputs": [],
   "source": [
    "def number_length(num):\n",
    "    counter = 0\n",
    "    for i in (enumerate(str(10))):\n",
    "        counter += 1 \n",
    "    return counter\n"
   ]
  },
  {
   "cell_type": "code",
   "execution_count": 1,
   "metadata": {},
   "outputs": [
    {
     "data": {
      "text/plain": [
       "False"
      ]
     },
     "execution_count": 1,
     "metadata": {},
     "output_type": "execute_result"
    }
   ],
   "source": [
    "# 8/3\n",
    "# A number is said to be Disarium if the sum of its digits raised to their respective positions is the number itself.\n",
    "\n",
    "# Create a function that determines whether a number is a Disarium or not.\n",
    "\n",
    "# Example: \n",
    "# is_disarium(75) ➞ False\n",
    "# 7^1 + 5^2 = 7 + 25 = 32\n",
    "\n",
    "#Need to look at the digits \n",
    "\n",
    "def is_disarium(num):\n",
    "    sum_of_digits = 0\n",
    "    for position in range (1,len(str(num))+1):\n",
    "        sum_of_digits += int(str(num)[position-1])**position\n",
    "    return (sum_of_digits == num)\n",
    "   \n",
    "\n",
    "\n",
    "is_disarium(466)"
   ]
  },
  {
   "cell_type": "code",
   "execution_count": 3,
   "metadata": {},
   "outputs": [
    {
     "name": "stdout",
     "output_type": "stream",
     "text": [
      "1\n",
      "2\n",
      "3\n",
      "4\n",
      "5\n",
      "6\n",
      "7\n",
      "8\n",
      "9\n",
      "10\n",
      "11\n",
      "12\n",
      "13\n",
      "14\n",
      "15\n",
      "16\n",
      "17\n",
      "18\n",
      "19\n",
      "20\n",
      "21\n",
      "22\n",
      "253\n"
     ]
    }
   ],
   "source": [
    "total = 0 \n",
    "for i in range(1,23):\n",
    "    print(i)\n",
    "    total += i\n",
    "print(total)"
   ]
  },
  {
   "cell_type": "code",
   "execution_count": 1,
   "metadata": {},
   "outputs": [
    {
     "name": "stdout",
     "output_type": "stream",
     "text": [
      "medium\n"
     ]
    }
   ],
   "source": [
    "# Day 1 7/24\n",
    "\n",
    "area = 10.0\n",
    "if (area<9):\n",
    "    print(\"small\")\n",
    "elif (area< 12):\n",
    "    print(\"medium\")\n",
    "else:\n",
    "    print(\"large\")\n",
    "\n",
    "# This is an example of a miscoded problem because an area value of less than 10 will satisfie both contraints. The order is correct, I think it will print \"medium\""
   ]
  },
  {
   "cell_type": "code",
   "execution_count": 6,
   "metadata": {},
   "outputs": [
    {
     "name": "stdout",
     "output_type": "stream",
     "text": [
      "1\n",
      "2\n",
      "[1, 2]\n"
     ]
    }
   ],
   "source": [
    "# 7/26 - Edabit\n",
    "# Mubashir created an infinite loop! Help him by fixing the code in the code tab to pass this challenge. Look at the examples below to get an idea of what the function should do.\n",
    "list1 = [1]\n",
    "\n",
    "list2 =  [1, 2, 3]\n",
    "\n",
    "list3 =  [1, 2, 3, 4, 5, 6]\n",
    "\n",
    "\n",
    "# oriignal \n",
    "def print_list(n):\n",
    "\tresult, i = [], 1\n",
    "\twhile i<=n:\n",
    "\t\tresult += [i]\n",
    "\treturn result \n",
    "\n",
    "#Solution\n",
    "# has to return a list\n",
    "def return_list(n):\n",
    "    list = []\n",
    "    for i in range (1,int(n)+1):\n",
    "        print(i)\n",
    "        list.append(i)\n",
    "    print(list)\n",
    "    return list\n",
    "return_list(2)\n"
   ]
  },
  {
   "cell_type": "code",
   "execution_count": 2,
   "metadata": {},
   "outputs": [
    {
     "name": "stdout",
     "output_type": "stream",
     "text": [
      "Luke, I am your father.\n"
     ]
    },
    {
     "data": {
      "text/plain": [
       "'father'"
      ]
     },
     "execution_count": 2,
     "metadata": {},
     "output_type": "execute_result"
    }
   ],
   "source": [
    "# 7/29\n",
    "# Luke\n",
    "\n",
    "# relation_to_luke(\"Darth Vader\") ➞ \"Luke, I am your father.\"\n",
    "\n",
    "# relation_to_luke(\"Leia\") ➞ \"Luke, I am your sister.\"\n",
    "\n",
    "# relation_to_luke(\"Han\") ➞ \"Luke, I am your brother in law.\"\n",
    "\n",
    "sw_dict = {\"Darth Vader\":\"father\",\"Leia\":\"sister\",\"Han\":\"brother in law\",\"R2D2\":\"droid\"}\n",
    "\n",
    "\n",
    "def relation_to_luke (name):\n",
    "    print(\"Luke, I am your \"+str(sw_dict[name])+\".\")\n",
    "    return sw_dict[name]\n",
    "\n",
    "relation_to_luke(\"Darth Vader\")"
   ]
  },
  {
   "cell_type": "code",
   "execution_count": 26,
   "metadata": {},
   "outputs": [
    {
     "data": {
      "text/plain": [
       "52.29"
      ]
     },
     "execution_count": 26,
     "metadata": {},
     "output_type": "execute_result"
    }
   ],
   "source": [
    "# 7/31\n",
    "\n",
    "# Graphs and nodes challenge:\n",
    "\n",
    "sample_matrix1 = [\n",
    "  [ 0, 1, 0, 1, 1 ],\n",
    "  [ 1, 0, 1, 0, 0 ],\n",
    "  [ 0, 1, 0, 1, 0 ],\n",
    "  [ 1, 0, 1, 0, 1 ],\n",
    "  [ 1, 0, 0, 1, 0 ]\n",
    "]\n",
    "\n",
    "def is_adjacent(matrix, node1, node2):\n",
    "    if matrix[node1][node2] == 0:\n",
    "        return False\n",
    "    else:\n",
    "        return True\n",
    "    \n",
    "is_adjacent(sample_matrix1,3,0)\n",
    "\n",
    " # Price and discount problem:\n",
    " # Create a function that takes two arguments: the original price and the discount percentage \n",
    " # as integers and returns the final price after the discount.\n",
    "\n",
    "def dis(price, discount):\n",
    "    return round(price -(price*(discount/100)),2)\n",
    "\n",
    "dis(63,17)\n"
   ]
  },
  {
   "cell_type": "code",
   "execution_count": 38,
   "metadata": {},
   "outputs": [
    {
     "data": {
      "text/plain": [
       "0.0"
      ]
     },
     "execution_count": 38,
     "metadata": {},
     "output_type": "execute_result"
    }
   ],
   "source": [
    "# 8/1\n",
    "2**8\n",
    "\n",
    "#print(400/1.96)\n",
    "#1023/204.08\n",
    "def V_DAC(value):\n",
    "    return round((value/(1023/5)),2)\n",
    "\n"
   ]
  },
  {
   "cell_type": "code",
   "execution_count": 6,
   "metadata": {},
   "outputs": [
    {
     "name": "stdout",
     "output_type": "stream",
     "text": [
      "Fizz\n"
     ]
    }
   ],
   "source": [
    "# 8/2\n",
    "\n",
    "# If the number is a multiple of 3 the output should be \"Fizz\".\n",
    "# If the number given is a multiple of 5, the output should be \"Buzz\".\n",
    "# If the number given is a multiple of both 3 and 5, the output should be \"FizzBuzz\".\n",
    "# If the number is not a multiple of either 3 or 5, the number should be output on its own as shown in the examples below.\n",
    "# The output should always be a string even if it is not a multiple of 3 or 5.\n",
    "\n",
    "def fizz_buzz(num):\n",
    "\treturn \"Fizz\"*(num%3==0) + \"Buzz\"*(num%5==0) or str(num)\n",
    "\n",
    "# The above is the same idea as boolean masking in python\n",
    "print(\"Fizz\"*True)"
   ]
  },
  {
   "cell_type": "code",
   "execution_count": 4,
   "metadata": {},
   "outputs": [
    {
     "data": {
      "text/plain": [
       "28"
      ]
     },
     "execution_count": 4,
     "metadata": {},
     "output_type": "execute_result"
    }
   ],
   "source": [
    "# 8/4\n",
    "# Write a function that takes a number and returns the perimeter of either a circle or a square. The input will be in the form (letter l, number num) where the \n",
    "# letter will be either \"s\" for square, or \"c\" for circle, and the number will be the side of the square or the radius of the circle.\n",
    "\n",
    "# Use the following formulas:\n",
    "\n",
    "# Perimeter of a square: 4 * side.\n",
    "# Perimeter of a circle: 6.28 * radius.\n",
    "# The catch is you can only use arithmetic or comparison operators, which means:\n",
    "\n",
    "# No if... else statements.\n",
    "# No dictionaries.\n",
    "# No lambdas.\n",
    "# No formatting methods, etc.\n",
    "# The goal is to write a short, branch-free piece of code.\n",
    "\n",
    "def perimiter(shape,num):\n",
    "    return (num*4)*(shape=='s') or (num*6.28)*(shape=='c')\n",
    "\n",
    "perimiter('c',4)\n",
    "perimiter('s',7)\n"
   ]
  }
 ],
 "metadata": {
  "kernelspec": {
   "display_name": "Python 3.9.13 64-bit (windows store)",
   "language": "python",
   "name": "python3"
  },
  "language_info": {
   "codemirror_mode": {
    "name": "ipython",
    "version": 3
   },
   "file_extension": ".py",
   "mimetype": "text/x-python",
   "name": "python",
   "nbconvert_exporter": "python",
   "pygments_lexer": "ipython3",
   "version": "3.9.13"
  },
  "orig_nbformat": 4,
  "vscode": {
   "interpreter": {
    "hash": "c2154bec843a099fe3d016b95ea2c28c2b633210b993f378182a012db661fcc2"
   }
  }
 },
 "nbformat": 4,
 "nbformat_minor": 2
}
